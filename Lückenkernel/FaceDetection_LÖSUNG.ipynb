{
 "cells": [
  {
   "cell_type": "markdown",
   "metadata": {},
   "source": [
    "# Face detection with OpenCV using Python  \n",
    "\n",
    "#### Ziele des Lückenkernels:\n",
    "* Grobe Einführung in OpenCV\n",
    "* Face Detection\n",
    "    * Grobe Einführung in Haar-Cascades\n",
    "    \n",
    "### Face detection\n",
    "* Face detection ist eine Aufgabe der Bildanalyse\n",
    "* Das Ziel ist eine Lokalisierung eines gesuchten Objektes -> in diesem Fall ein Gesicht\n",
    "* Die Aufgabe unterteilt sich dabei in 2 Sub-Aufgaben\n",
    "    * 1. Klassifikation des Objektes\n",
    "    * 2. Lokalisierung durch eine Bounding Box oder ähnliches\n",
    "\n",
    "#### Durchführung des Jupyter Notebooks\n",
    "* Die Zellen, die mit **#Vorbereitung** beginnen können Sie einfach laufen lassen. Dazu klicken Sie einfach die jeweilige Zelle an und klicken anschließend auf Run (befindet sich im Reiter).\n",
    "* Für die Bearbeitung des Notebooks müssen Sie jede Zelle **nacheinander** durchgehen.\n",
    "* Dabei gibt es Zellen, die beinhalten **nur Informationen, Code den Sie nur ausführen müssen (Zellen, die mit \"#Vorbereitung\" beginnen und Zellen, in denen Sie selber Code schreiben müssen.**\n",
    "* **Beachten Sie bitte die Kommentare!**\n",
    "\n",
    "\n",
    "#### Daten\n",
    "* Im Lückenkernel-Verzeichnis (das ist bei Ihnen ein Tab/Fenster) sehen Sie den Ordner **images**.\n",
    "* Darin befinden sich die Gesichter, die hier identifiziert werden.\n",
    "* Schauen Sie sich doch mal die Bilder an. ;-)\n",
    "\n",
    "#### Output\n",
    "* Im Lückenkernel-Verzeichnis befindet sich der Ordner **Output**.\n",
    "* Darin wird der Output nach der Gesichtserkennung abgespeichert.\n",
    "\n",
    "\n",
    "### OpenCV\n",
    "* OpenCV -> **Open Source Computer Vision Libary**\n",
    "* Es ist ein Open Source Package für den Fachbereich der Computer Vision\n",
    "\n",
    "\n",
    "* Alle OpenCV Funktionen werden mit **cv2.** aufgerufen\n",
    "* In diesem Lückenkernel werden Sie die herkömmlichen Funktionen kennenlernen. \n",
    "* Für weitere Informationen verweise ich auf die Dokumentation von OpenCV: **https://docs.opencv.org/master/d6/d00/tutorial_py_root.html**\n",
    "\n",
    "\n",
    "### Haar-Cascades\n",
    "* Haar Cascades ist ein **Object Detection Algorithmus**, um Gesichter in Bildern und in Echtzeit-Videos zu identifizieren.\n",
    "* Haar Cascades wurden erstmals von Paul Viola und Michael Jones im Jahr 2001 in einem Paper vorgestellt.\n",
    "    * **\"Rapid Object Detection using a Boosted Cascade of Simple Features\"**\n",
    "* Es gewann vor allem durch seine hohe Effizienz Muster in Echtzeit zu erkennen an Popularität.\n",
    "* OpenCV stellt bereits eine Auswahl an Haar Cascades in XML-Datei zur Verfügung. Das sind sozusagen nichts anderes als Modelle mit vordefinierten Features.\n",
    "* Es besteht auch die Möglichkeit eigene Haar Cascades zu erstellen, in dem man mehrere Haar Cascades miteinander kombiniert.\n",
    "\n",
    "\n",
    "* Haar Cascades besitzen sogenannte **Features**. Das ist nichts anderes als **Filter** (oder auch **Kernel** genannt).\n",
    "* Die untere Abbildung zeigt einige Variationen von Features - Es gibt immer einen **hellen und dunklen Teil**\n",
    "\n",
    "<img src=\"Markdown_imgs/Features.png\">\n",
    "\n",
    "* Haar Cascades verwenden diese Features, um **Kanten, Linien oder ähnliches** zu erkennen. Diese Strukturen sind aber auf die Form eines Gesichts spezifiziert. D.h. dass andere Objekte, die zum Beispiel im Hintergrund sind, werden (sollten) ignoriert werden.\n",
    "\n",
    "* Die Features wandern über jedes Fenster, dass über das Bild gelegt wird. \n",
    "* Pro Fenster wird dann ein Feature (kann auch ein ganzes Set von verschiedenen Features sein) angewendet.\n",
    "* Haar Cascades können dabei **mehrere Sets von Features** haben, die wiederum in verschiedene **\"Stages\"** vorhanden sind. \n",
    "* **Stages** werden verwendet, um die Effizienz zu steigern und die Rechenzeit zu verrringern. \n",
    "* Fällt ein Fenster durch eine Stage durch, dann werden die nachfolgenden Stages nicht mehr angewendet. \n",
    "* D.h., dass das Fenster **keine relevante Gesichtsstruktur beinhaltet.**\n",
    "\n",
    "\n",
    "Die folgende Abbildung zeigt die Berechnungsmethodik eines eingesetzten Features auf ein Fenster.\n",
    "\n",
    "<img src=\"Markdown_imgs/Use_features.png\">\n",
    "\n",
    "Es wird jeweils der Mittelwert der Pixel in der hellen und der dunklen Fläche berechnet und anschließend die Differenz berechnet. **Ist diese Differenz nahe dem Wert 1, dann handelt es sich um eine relevante Struktur.** Ansonsten ist nichts relevantes dabei."
   ]
  },
  {
   "cell_type": "code",
   "execution_count": 1,
   "metadata": {},
   "outputs": [],
   "source": [
    "#Vorbereitung\n",
    "\n",
    "# Import der Packages\n",
    "import cv2 #Das ist OpenCV\n",
    "import os\n",
    "import shutil\n",
    "import pickle"
   ]
  },
  {
   "cell_type": "code",
   "execution_count": 2,
   "metadata": {},
   "outputs": [
    {
     "output_type": "execute_result",
     "data": {
      "text/plain": [
       "'/Users/lookphanthavong/Documents/VSCode/Lückenkernel/cascades'"
      ]
     },
     "metadata": {},
     "execution_count": 2
    }
   ],
   "source": [
    "#Vorbereitung\n",
    "\n",
    "# Die Haar Cascades werden in das Verzeichnis kopiert, in dem gearbeitet wird.\n",
    "# Das ist ein Teil der Vorbereitung.\n",
    "# Sie müssen hier nix machen\n",
    "\n",
    "\n",
    "# Mit cv2.__file__ erhält man den Speicherort von cv2 -> da sind auch die Cascades gespeichert\n",
    "cascade_rootpath = cv2.__file__\n",
    "\n",
    "# cascade_datapath enthält ausschließlich die Cascades Dateien - Ziel ist es nun diese Daten in unser Arbeitsverzeichnis zu laden\n",
    "cascade_datapath = cascade_rootpath[:-len(cascade_rootpath.split(\"/\")[-1])]+\"data\"\n",
    "\n",
    "# cascade_dstpath ist unser Arbeitsverzeichnis\n",
    "cascade_dstpath = os.getcwd()+\"/cascades\"\n",
    "\n",
    "# Die Cascades werden hier in das Arbeitsverzeichnis geladen\n",
    "shutil.rmtree(cascade_dstpath)\n",
    "shutil.copytree(cascade_datapath, cascade_dstpath)"
   ]
  },
  {
   "cell_type": "code",
   "execution_count": 3,
   "metadata": {
    "nbgrader": {
     "grade": true,
     "grade_id": "cell-list_cascades",
     "locked": false,
     "points": 1,
     "schema_version": 3,
     "solution": true,
     "task": false
    }
   },
   "outputs": [
    {
     "output_type": "execute_result",
     "data": {
      "text/plain": [
       "['haarcascade_upperbody.xml',\n",
       " 'haarcascade_frontalcatface_extended.xml',\n",
       " 'haarcascade_profileface.xml',\n",
       " 'haarcascade_frontalcatface.xml',\n",
       " 'haarcascade_frontalface_alt2.xml',\n",
       " 'haarcascade_eye.xml',\n",
       " '__init__.py',\n",
       " 'haarcascade_lefteye_2splits.xml',\n",
       " '__pycache__',\n",
       " 'haarcascade_frontalface_alt_tree.xml',\n",
       " 'haarcascade_licence_plate_rus_16stages.xml',\n",
       " 'haarcascade_righteye_2splits.xml',\n",
       " 'haarcascade_frontalface_alt.xml',\n",
       " 'haarcascade_lowerbody.xml',\n",
       " 'haarcascade_russian_plate_number.xml',\n",
       " 'haarcascade_frontalface_default.xml',\n",
       " 'haarcascade_smile.xml',\n",
       " 'haarcascade_fullbody.xml',\n",
       " 'haarcascade_eye_tree_eyeglasses.xml']"
      ]
     },
     "metadata": {},
     "execution_count": 3
    }
   ],
   "source": [
    "# Geben Sie nun alle Cascades aus - Achtung es ist ein Verzeichnis (Tipp: os.listdir())\n",
    "# Ein print() muss nicht angegeben werden.\n",
    "\n",
    "\n",
    "### BEGIN SOLUTION\n",
    "os.listdir(cascade_dstpath)\n",
    "### END SOLUTION\n",
    "\n"
   ]
  },
  {
   "cell_type": "markdown",
   "metadata": {},
   "source": [
    "Sie sehen nun eine Liste an verschiedenen Haar Cascades, die OpenCV zur Verfügung stellt."
   ]
  },
  {
   "cell_type": "code",
   "execution_count": 4,
   "metadata": {
    "nbgrader": {
     "grade": true,
     "grade_id": "cell-load_cascade",
     "locked": false,
     "points": 1,
     "schema_version": 3,
     "solution": true,
     "task": false
    }
   },
   "outputs": [],
   "source": [
    "# Mit cv2.CascadeClassifier() können Sie die Cascade laden - Geben Sie unbedingt den absoluten Pfad an\n",
    "# Um den absoluten Pfad anzugeben, verwenden Sie bitte die os.path.join(source_path, Dateiname) Funktion\n",
    "# Als Beispiel verwenden Sie bitte \"haarcascade_frontalface_default.xml\"\n",
    "# Speichern Sie den CascadeClassifier als die Variable face_cascade ab\n",
    "\n",
    "\n",
    "\n",
    "\n",
    "### BEGIN SOLUTION\n",
    "face_cascade = cv2.CascadeClassifier(os.path.join(cascade_dstpath,'haarcascade_frontalface_default.xml'))\n",
    "### END SOLUTION\n",
    "\n",
    "\n"
   ]
  },
  {
   "cell_type": "markdown",
   "metadata": {},
   "source": [
    "### Allgemeine Vorgehensweise\n",
    "* In dem unteren Abschnitt findet die Gesichtserkennung statt.\n",
    "* Zunächst wird das Bild eingelesen und in ein **Grauwertbild umgewandelt**, da die Haar Cascades nur mit Grauwertbildern arbeiten kann.\n",
    "* Anschließend wird mit **face_cascade.detectMultiScale()** die Gesichter erkannt.\n",
    "* face_cascade.detectMultiScale liefert dabei nur die Koordinaten einer \"Box\" in der sich da Gesicht befindet. Die Box enthält **4 Koordinaten x, y, w und h**. Eine genauere Beschreibung der Koordinaten wird weiter unten erklärt.\n",
    "* Mit diesen Koordinaten kann eine Box um das Gesicht gezeichnet werden. Dazu wird die **cv2.rectangle()** Funktion verwendet.\n",
    "* Anschließend können die Bilder mit **cv2.imwrite()** gespeichert werden."
   ]
  },
  {
   "cell_type": "code",
   "execution_count": 7,
   "metadata": {
    "nbgrader": {
     "grade": true,
     "grade_id": "cell-face_detection",
     "locked": false,
     "points": 1,
     "schema_version": 3,
     "solution": true,
     "task": false
    }
   },
   "outputs": [
    {
     "output_type": "stream",
     "name": "stdout",
     "text": [
      "/Users/lookphanthavong/Documents/VSCode/Lückenkernel/images/Emma_Watson/4.jpg\n",
      "/Users/lookphanthavong/Documents/VSCode/Lückenkernel/images/Emma_Watson/5.jpg\n",
      "/Users/lookphanthavong/Documents/VSCode/Lückenkernel/images/Emma_Watson/2.jpg\n",
      "/Users/lookphanthavong/Documents/VSCode/Lückenkernel/images/Emma_Watson/3.jpg\n",
      "/Users/lookphanthavong/Documents/VSCode/Lückenkernel/images/Emma_Watson/1.jpg\n",
      "/Users/lookphanthavong/Documents/VSCode/Lückenkernel/images/Daniel_Radcliffe/4.jpg\n",
      "/Users/lookphanthavong/Documents/VSCode/Lückenkernel/images/Daniel_Radcliffe/5.jpg\n",
      "/Users/lookphanthavong/Documents/VSCode/Lückenkernel/images/Daniel_Radcliffe/2.jpg\n",
      "/Users/lookphanthavong/Documents/VSCode/Lückenkernel/images/Daniel_Radcliffe/3.jpg\n",
      "/Users/lookphanthavong/Documents/VSCode/Lückenkernel/images/Daniel_Radcliffe/1.jpg\n",
      "/Users/lookphanthavong/Documents/VSCode/Lückenkernel/images/Rupert_Grint/4.jpg\n",
      "/Users/lookphanthavong/Documents/VSCode/Lückenkernel/images/Rupert_Grint/5.jpg\n",
      "/Users/lookphanthavong/Documents/VSCode/Lückenkernel/images/Rupert_Grint/2.jpg\n",
      "/Users/lookphanthavong/Documents/VSCode/Lückenkernel/images/Rupert_Grint/3.jpg\n",
      "/Users/lookphanthavong/Documents/VSCode/Lückenkernel/images/Rupert_Grint/1.jpg\n"
     ]
    }
   ],
   "source": [
    "# Wir legen uns ein Output-Verzeichnis an\n",
    "recog_output_path = os.getcwd()+\"/Output\"\n",
    "\n",
    "# Die verwendeten Bilder befinden sich im Ordner \"images\"\n",
    "img_path = os.getcwd()+\"/images\"\n",
    "\n",
    "\n",
    "dirs = os.listdir(img_path)\n",
    "for name in dirs:\n",
    "    if name == \".ipynb_checkpoints\" or name == \".DS_Store\":\n",
    "        pass\n",
    "    else:\n",
    "        list_of_imgs = os.listdir(os.path.join(img_path, name))\n",
    "        for img_name in list_of_imgs:\n",
    "            if img_name.endswith(\".jpg\"):\n",
    "                total_path = img_path+\"/\"+name+\"/\"+img_name\n",
    "            \n",
    "                \n",
    "############################################################################################################\n",
    "# Um die Bilder einlesen zu können, wird der absolute Pfad für jedes Bild benötigt.\n",
    "# total_path stellt den absoluten Pfad des Bildes dar - es ist immer nur der Pfad von einem Bild !!!\n",
    "# Laden Sie mit cv2.imread() das Bild und speichern Sie das Bild als img\n",
    "# HINWEIS: Sie befinden sich in einer Schleife - Achten Sie daher auf die richtige Einrückung\n",
    "\n",
    "\n",
    "\n",
    "                ### BEGIN SOLUTION\n",
    "                img = cv2.imread(total_path)\n",
    "                ### END SOLUTION\n",
    "\n",
    "\n",
    "\n",
    "# Cascaden arbeiten ausschließlich nur mit Grauwertbildern\n",
    "# Mit cv2.cvtColor() können Sie das eingelesene Bild in ein Grauwertbild umwandeln\n",
    "# Hier ist ein Link der Ihnen eine Auswahl an Konvertierungen darstellt: https://www.geeksforgeeks.org/python-opencv-cv2-cvtcolor-method/\n",
    "# Verwenden Sie cv2.COLOR_BGR2GRAY als Konvertierung und speichern Sie das Grauwertbild als gray ab\n",
    "\n",
    "\n",
    "\n",
    "                ### BEGIN SOLUTION\n",
    "                gray = cv2.cvtColor(img, cv2.COLOR_BGR2GRAY)\n",
    "                ### END SOLUTION\n",
    "\n",
    "\n",
    "\n",
    "# Nun können Sie mit der Funktion face_cascade.detectMultiScale() das Graubild einlesen und Gesichter erkennen\n",
    "# Verwenden Sie diese Funktion mit den Parametern scaleFactor=1.5 und minNeighbors=5 und speichern Sie die \"Gesichter\" als faces ab\n",
    "\n",
    "\n",
    "\n",
    "                ### BEGIN SOLUTION\n",
    "                faces = face_cascade.detectMultiScale(gray, scaleFactor=1.5, minNeighbors=5)\n",
    "                ### END SOLUTION\n",
    "\n",
    "\n",
    "\n",
    "# faces enthält lediglich die Koordinaten der sogenannten REGION OF INTEREST ROI \n",
    "# ROI stellt wiederum das Gesicht dar \n",
    "# faces enthält daher lediglich nur die Koordination dieser ROI\n",
    "# Koordinate 1: x->Startpunkt auf der X-Achse\n",
    "# Koordinate 2: y-> Startpunkt auf der Y-Achse\n",
    "# Koordinate 3: w-> Endpunkt auf der X-Achse; w steht für width (=Breite)\n",
    "# Koordinate 4: h-> Endpunkt auf der Y-Achse; h steht für height (=Höhe)\n",
    "# Gehen Sie nun mit einer for-loop durch faces mit x,y,w,h als Iteratoren (Hinweis: Klammern nicht vergessen!!!)\n",
    "# Anschließend könne Sie mit cv2.rectangle() und den Koordinaten der ROI eine Box zeichnen, die auf das RGB Bild (=img) zusehen ist\n",
    "# Die Parameter für cv2.rectangle sind: Bild, (Startp.X-Achse, Startp.Y-Achse), (Breite, Höhe) -> Achtung: Der Startpunkt gehört dazu!!!, (255,0,0)->b,g,r, 2 -> Als Rahmenbreite\n",
    "\n",
    "\n",
    "\n",
    "                ### BEGIN SOLUTION\n",
    "                for (x, y, w, h) in faces:\n",
    "                    cv2.rectangle(img, (x, y), (x+w, y+h), (255, 0, 0), 2)\n",
    "                ### END SOLUTION\n",
    "\n",
    "\n",
    "\n",
    "# Mit cv2.imwrite() können Sie die Bilder mit Box gespeichert werden\n",
    "\n",
    "                cv2.imwrite(os.path.join(recog_output_path , name+\"_\"+img_name), img)\n",
    "        "
   ]
  },
  {
   "cell_type": "code",
   "execution_count": null,
   "metadata": {},
   "outputs": [],
   "source": []
  }
 ],
 "metadata": {
  "celltoolbar": "Create Assignment",
  "kernelspec": {
   "display_name": "Python 3",
   "language": "python",
   "name": "python3"
  },
  "language_info": {
   "codemirror_mode": {
    "name": "ipython",
    "version": 3
   },
   "file_extension": ".py",
   "mimetype": "text/x-python",
   "name": "python",
   "nbconvert_exporter": "python",
   "pygments_lexer": "ipython3",
   "version": "3.8.5"
  }
 },
 "nbformat": 4,
 "nbformat_minor": 4
}